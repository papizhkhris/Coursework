{
 "cells": [
  {
   "cell_type": "code",
   "execution_count": 1,
   "metadata": {},
   "outputs": [],
   "source": [
    "import math\n",
    "from itertools import combinations\n",
    "import numpy as np\n",
    "import jinja2\n",
    "import pandas as pd\n",
    "import scipy"
   ]
  },
  {
   "cell_type": "code",
   "execution_count": 2,
   "metadata": {},
   "outputs": [],
   "source": [
    "DATAFILE = 'contest_data.csv'"
   ]
  },
  {
   "cell_type": "code",
   "execution_count": 3,
   "metadata": {},
   "outputs": [],
   "source": [
    "class Contest:\n",
    "    def __init__(self, filename, alpha=.1):\n",
    "        self.filename = filename\n",
    "        self.alpha = alpha\n",
    "        self.load_df()\n",
    "\n",
    "    def load_df(self):\n",
    "        self.df = pd.read_csv(self.filename, index_col='Учасники')\n",
    "        \n",
    "    @property\n",
    "    def headers(self):\n",
    "        return self.df.columns # повертає список членів журі\n",
    "\n",
    "    @property\n",
    "    def entries(self):\n",
    "        return self.df.itertuples()\n",
    "\n",
    "    @property\n",
    "    def m(self):\n",
    "        return self.df.shape[0] # к-ть учасників конкурсу\n",
    "\n",
    "    @property\n",
    "    def n(self):\n",
    "        return self.df.shape[1] # к-ть членів журі\n",
    "    \n",
    "    @property\n",
    "    def k(self):\n",
    "        return self.m - 2\n",
    "    \n",
    "    @property\n",
    "    def concordance(self):\n",
    "        S_prime_ = self.df.sum(axis=1)\n",
    "        di_ = S_prime_ - S_prime_.mean()\n",
    "        di_square_ = di_**2\n",
    "        S = di_square_.sum()\n",
    "        return 12 * S / (self.m*self.n**2*(self.m**2 - 1))\n",
    "\n",
    "    @property\n",
    "    def concordance_2(self):\n",
    "        S_prime_ = self.df.sum(axis=1)\n",
    "        di_ = S_prime_ - S_prime_.mean()\n",
    "        di_square_ = di_**2\n",
    "        sumD = di_square_.sum()\n",
    "        return 120 * sumD / ((self.n**2*(self.m**3 - self.m) - self.n) *(self.m*3 - self.m))\n",
    "\n",
    "\n",
    "    @property\n",
    "    def distribution(self):\n",
    "        df = pd.read_csv('contest_data.csv')\n",
    "        alpha = 0.05\n",
    "        spearman_corr, _ = scipy.stats.spearmanr(df)\n",
    "        _, p_value = scipy.stats.ttest_1samp(spearman_corr, 0)\n",
    "        if p_value.any() < alpha:\n",
    "            return \"є значущою\"\n",
    "        else:\n",
    "            return \"не є значущою\"\n",
    "    \n",
    "    @property\n",
    "    def spearman(self):\n",
    "        t = -scipy.stats.t.ppf(self.alpha/2, self.k) # Why -2.35??\n",
    "        rows = []\n",
    "        for ex1, ex2 in combinations(self.df.columns, 2):\n",
    "            rho_ij = 1 - 6 * ((self.df[ex1] - self.df[ex2])**2).sum() / (self.m**3 - self.m)\n",
    "            rho_ij = round(rho_ij, 1)\n",
    "            \n",
    "            T_kp = t * math.sqrt((1 - rho_ij**2)/(self.m - 2))\n",
    "            T_kp = round(T_kp, 9)\n",
    "            \n",
    "            importance = \"+\" if abs(rho_ij) > T_kp else \"-\"\n",
    "            \n",
    "            i = self.df.columns.get_loc(ex1) + 1\n",
    "            j = self.df.columns.get_loc(ex2) + 1\n",
    "            rows.append((i, j, rho_ij, round(t, 2), T_kp, importance))\n",
    "            \n",
    "        return pd.DataFrame(rows, columns=['i', 'j', 'rho_ij', 't', 'T_kp', 'importance'])\n",
    "\n",
    "    @property\n",
    "    def rating(self):\n",
    "        return self.df.mean(axis=1).rank(ascending=False).astype(int)\n",
    "        \n",
    "    @property\n",
    "    def dissidents(self):\n",
    "        conc = self.concordance\n",
    "        ex = \"--\"\n",
    "        dis = []\n",
    "        for i in range(len(self.df.columns)):\n",
    "            dis.append({\n",
    "                \"expert\": ex if i else \"--\", \n",
    "                \"concordance\": round(self.concordance, 4),\n",
    "                \"concordance_change\" : round(self.concordance - dis[-1][\"concordance\"], 4) if i else 0,\n",
    "                \"importance\" : self.distribution,\n",
    "                \"rating\": self.rating,\n",
    "                \"winner_change\" : (\"Так\" if (self.rating.idxmax() == dis[-1][\"rating\"].idxmax()) else \"Y\") if i else \"--\",\n",
    "                \"change_amount\" : sum(self.rating == dis[0][\"rating\"]) if i else \"--\",\n",
    "            })\n",
    "            ex = self.df.columns[-1]\n",
    "            self.df.pop(ex)\n",
    "        self.load_df()\n",
    "        return dis\n",
    "    "
   ]
  },
  {
   "cell_type": "code",
   "execution_count": 4,
   "metadata": {},
   "outputs": [
    {
     "name": "stderr",
     "output_type": "stream",
     "text": [
      "c:\\Users\\38096\\AppData\\Local\\Programs\\Python\\Python310\\lib\\site-packages\\scipy\\stats\\_stats_py.py:110: RuntimeWarning: The input array could not be properly checked for nan values. nan values will be ignored.\n",
      "  warnings.warn(\"The input array could not be properly \"\n",
      "c:\\Users\\38096\\AppData\\Local\\Programs\\Python\\Python310\\lib\\site-packages\\scipy\\stats\\_stats_py.py:110: RuntimeWarning: The input array could not be properly checked for nan values. nan values will be ignored.\n",
      "  warnings.warn(\"The input array could not be properly \"\n",
      "c:\\Users\\38096\\AppData\\Local\\Programs\\Python\\Python310\\lib\\site-packages\\scipy\\stats\\_stats_py.py:110: RuntimeWarning: The input array could not be properly checked for nan values. nan values will be ignored.\n",
      "  warnings.warn(\"The input array could not be properly \"\n",
      "c:\\Users\\38096\\AppData\\Local\\Programs\\Python\\Python310\\lib\\site-packages\\scipy\\stats\\_stats_py.py:110: RuntimeWarning: The input array could not be properly checked for nan values. nan values will be ignored.\n",
      "  warnings.warn(\"The input array could not be properly \"\n",
      "c:\\Users\\38096\\AppData\\Local\\Programs\\Python\\Python310\\lib\\site-packages\\scipy\\stats\\_stats_py.py:110: RuntimeWarning: The input array could not be properly checked for nan values. nan values will be ignored.\n",
      "  warnings.warn(\"The input array could not be properly \"\n"
     ]
    }
   ],
   "source": [
    "environment = jinja2.Environment(loader=jinja2.FileSystemLoader(''))\n",
    "#DATAFILE = 'test_2.csv'\n",
    "template = environment.get_template('template.html')\n",
    "contest = Contest(DATAFILE)\n",
    "with open('report.html', 'w', encoding='utf-8') as report:\n",
    "    report.write(template.render(contest=contest))\n"
   ]
  },
  {
   "cell_type": "code",
   "execution_count": 5,
   "metadata": {},
   "outputs": [
    {
     "name": "stdout",
     "output_type": "stream",
     "text": [
      "1\t2\t0.1\t2.35\t1.351904368\t-\t\n",
      "1\t3\t0.8\t2.35\t0.815229008\t-\t\n",
      "1\t4\t0.4\t2.35\t1.245282879\t-\t\n",
      "2\t3\t-0.4\t2.35\t1.245282879\t-\t\n",
      "2\t4\t0.8\t2.35\t0.815229008\t-\t\n",
      "3\t4\t-0.1\t2.35\t1.351904368\t-\t\n"
     ]
    }
   ],
   "source": [
    "for row in contest.spearman.iterrows():\n",
    "    for cell in row[1]:\n",
    "        print(cell, end='\\t')\n",
    "    print()"
   ]
  },
  {
   "cell_type": "code",
   "execution_count": 6,
   "metadata": {},
   "outputs": [
    {
     "data": {
      "text/html": [
       "<div>\n",
       "<style scoped>\n",
       "    .dataframe tbody tr th:only-of-type {\n",
       "        vertical-align: middle;\n",
       "    }\n",
       "\n",
       "    .dataframe tbody tr th {\n",
       "        vertical-align: top;\n",
       "    }\n",
       "\n",
       "    .dataframe thead th {\n",
       "        text-align: right;\n",
       "    }\n",
       "</style>\n",
       "<table border=\"1\" class=\"dataframe\">\n",
       "  <thead>\n",
       "    <tr style=\"text-align: right;\">\n",
       "      <th></th>\n",
       "      <th>Директор</th>\n",
       "      <th>Заступник_1</th>\n",
       "      <th>Заступник_2</th>\n",
       "      <th>Методист</th>\n",
       "    </tr>\n",
       "    <tr>\n",
       "      <th>Учасники</th>\n",
       "      <th></th>\n",
       "      <th></th>\n",
       "      <th></th>\n",
       "      <th></th>\n",
       "    </tr>\n",
       "  </thead>\n",
       "  <tbody>\n",
       "    <tr>\n",
       "      <th>8-А</th>\n",
       "      <td>1</td>\n",
       "      <td>3</td>\n",
       "      <td>2</td>\n",
       "      <td>2</td>\n",
       "    </tr>\n",
       "    <tr>\n",
       "      <th>8-Б</th>\n",
       "      <td>2</td>\n",
       "      <td>4</td>\n",
       "      <td>1</td>\n",
       "      <td>3</td>\n",
       "    </tr>\n",
       "    <tr>\n",
       "      <th>8-В</th>\n",
       "      <td>3</td>\n",
       "      <td>2</td>\n",
       "      <td>3</td>\n",
       "      <td>2</td>\n",
       "    </tr>\n",
       "    <tr>\n",
       "      <th>9-А</th>\n",
       "      <td>4</td>\n",
       "      <td>1</td>\n",
       "      <td>5</td>\n",
       "      <td>1</td>\n",
       "    </tr>\n",
       "    <tr>\n",
       "      <th>9-Б</th>\n",
       "      <td>5</td>\n",
       "      <td>5</td>\n",
       "      <td>4</td>\n",
       "      <td>4</td>\n",
       "    </tr>\n",
       "  </tbody>\n",
       "</table>\n",
       "</div>"
      ],
      "text/plain": [
       "          Директор  Заступник_1  Заступник_2  Методист\n",
       "Учасники                                              \n",
       "8-А              1            3            2         2\n",
       "8-Б              2            4            1         3\n",
       "8-В              3            2            3         2\n",
       "9-А              4            1            5         1\n",
       "9-Б              5            5            4         4"
      ]
     },
     "execution_count": 6,
     "metadata": {},
     "output_type": "execute_result"
    }
   ],
   "source": [
    "contest.df"
   ]
  }
 ],
 "metadata": {
  "kernelspec": {
   "display_name": "Python 3.10.8 64-bit",
   "language": "python",
   "name": "python3"
  },
  "language_info": {
   "codemirror_mode": {
    "name": "ipython",
    "version": 3
   },
   "file_extension": ".py",
   "mimetype": "text/x-python",
   "name": "python",
   "nbconvert_exporter": "python",
   "pygments_lexer": "ipython3",
   "version": "3.10.8"
  },
  "orig_nbformat": 4,
  "vscode": {
   "interpreter": {
    "hash": "ea029defd204f4f798f85e747c92eb6fd6bd23e556ddcc08093c967efeb588ac"
   }
  }
 },
 "nbformat": 4,
 "nbformat_minor": 2
}
